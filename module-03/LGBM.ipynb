{
 "cells": [
  {
   "cell_type": "code",
   "execution_count": 1,
   "metadata": {},
   "outputs": [],
   "source": [
    "# Importing\n",
    "import pandas as pd\n",
    "from sklearn.model_selection import train_test_split\n",
    "from sklearn.metrics import mean_squared_error\n",
    "from sklearn.metrics import r2_score\n",
    "from lightgbm import LGBMRegressor\n",
    "import numpy as np\n",
    "from pycaret.regression import *\n",
    "\n",
    "\n",
    "df = pd.read_csv(\n",
    "    \"https://raw.githubusercontent.com/byui-cse/cse450-course/master/data/housing.csv\"\n",
    ")\n",
    "\n",
    "crime_rate = pd.read_csv(\"./crime_rate.csv\")"
   ]
  },
  {
   "cell_type": "code",
   "execution_count": 2,
   "metadata": {},
   "outputs": [],
   "source": [
    "# Add crime rates from nearest city\n",
    "df = pd.merge(df, crime_rate, on=\"zipcode\", how=\"left\")"
   ]
  },
  {
   "cell_type": "code",
   "execution_count": 3,
   "metadata": {},
   "outputs": [],
   "source": [
    "def data_transform(df):\n",
    "\n",
    "    # Convert 'date' to datetime and extract year and month\n",
    "    df[\"date\"] = pd.to_datetime(df[\"date\"])\n",
    "    df[\"year_of_sale\"] = df[\"date\"].dt.year\n",
    "    df[\"month_of_sale\"] = df[\"date\"].dt.month\n",
    "    df.drop(\"date\", axis=1, inplace=True)  # Drop the original date column\n",
    "\n",
    "    # Add age of house\n",
    "    df[\"age\"] = 2015 - df[\"yr_built\"]\n",
    "    # Add binary has basement column\n",
    "    df[\"has_basement\"] = (df[\"sqft_basement\"] > 0).astype(int)\n",
    "\n",
    "    df= df[df[\"bedrooms\"] != 33]\n",
    "\n",
    "    return df"
   ]
  },
  {
   "cell_type": "code",
   "execution_count": 4,
   "metadata": {},
   "outputs": [],
   "source": [
    "df = data_transform(df)"
   ]
  },
  {
   "cell_type": "code",
   "execution_count": 5,
   "metadata": {},
   "outputs": [],
   "source": [
    "X = df.drop(\"price\", axis=1)\n",
    "y = df[[\"price\"]]\n",
    "\n",
    "\n",
    "X_train, X_test, y_train, y_test = train_test_split(X, y, test_size=0.1, random_state=6)"
   ]
  },
  {
   "cell_type": "code",
   "execution_count": 6,
   "metadata": {},
   "outputs": [
    {
     "name": "stdout",
     "output_type": "stream",
     "text": [
      "\n",
      "\n",
      "RMSE: 104465.70019756688\n",
      "\n",
      "\n",
      "R^2: 0.922991037253758\n"
     ]
    }
   ],
   "source": [
    "model = LGBMRegressor()\n",
    "\n",
    "\n",
    "\n",
    "model.fit(X_train, y_train)\n",
    "\n",
    "predictions = model.predict(X_test)\n",
    "\n",
    "\n",
    "# Calculate RMSE\n",
    "mse = mean_squared_error(y_test, predictions)\n",
    "rmse = np.sqrt(mse)\n",
    "\n",
    "r2 = r2_score(y_test, predictions)\n",
    "\n",
    "print(f\"\\n\\nRMSE: {rmse}\")\n",
    "print(f\"\\n\\nR^2: {r2}\")"
   ]
  },
  {
   "cell_type": "code",
   "execution_count": 7,
   "metadata": {},
   "outputs": [],
   "source": [
    "mini = pd.read_csv(\n",
    "    \"https://raw.githubusercontent.com/byui-cse/cse450-course/master/data/housing_holdout_test_mini.csv\"\n",
    ")\n",
    "\n",
    "\n",
    "mini = pd.merge(mini, crime_rate, on=\"zipcode\", how=\"left\")"
   ]
  },
  {
   "cell_type": "code",
   "execution_count": 8,
   "metadata": {},
   "outputs": [],
   "source": [
    "mini = data_transform(mini)"
   ]
  },
  {
   "cell_type": "code",
   "execution_count": 9,
   "metadata": {},
   "outputs": [],
   "source": [
    "predictions = model.predict(mini)\n",
    "df = pd.DataFrame(predictions)\n",
    "df.to_csv(\"team3-module3-predictions.csv\", index=False, header=[\"price\"])"
   ]
  },
  {
   "cell_type": "code",
   "execution_count": null,
   "metadata": {},
   "outputs": [],
   "source": []
  }
 ],
 "metadata": {
  "kernelspec": {
   "display_name": "Python 3",
   "language": "python",
   "name": "python3"
  },
  "language_info": {
   "codemirror_mode": {
    "name": "ipython",
    "version": 3
   },
   "file_extension": ".py",
   "mimetype": "text/x-python",
   "name": "python",
   "nbconvert_exporter": "python",
   "pygments_lexer": "ipython3",
   "version": "3.10.4"
  }
 },
 "nbformat": 4,
 "nbformat_minor": 2
}
