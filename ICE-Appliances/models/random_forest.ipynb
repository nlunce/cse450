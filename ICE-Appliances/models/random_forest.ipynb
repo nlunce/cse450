{
 "cells": [
  {
   "cell_type": "code",
   "execution_count": 1,
   "metadata": {},
   "outputs": [],
   "source": [
    "# Importing\n",
    "import pandas as pd\n",
    "import numpy as np\n",
    "from sklearn.model_selection import train_test_split\n",
    "from sklearn.ensemble import RandomForestClassifier\n",
    "from sklearn.metrics import accuracy_score\n",
    "\n",
    "\n",
    "df = pd.read_csv(\"./energy-training.csv\")"
   ]
  },
  {
   "cell_type": "code",
   "execution_count": 2,
   "metadata": {},
   "outputs": [],
   "source": [
    "value_to_letter_sorted = {\n",
    "    10: \"A\",\n",
    "    20: \"B\",\n",
    "    30: \"C\",\n",
    "    40: \"D\",\n",
    "    50: \"E\",\n",
    "    60: \"F\",\n",
    "    70: \"G\",\n",
    "    80: \"H\",\n",
    "    90: \"I\",\n",
    "    100: \"J\",\n",
    "    110: \"K\",\n",
    "    120: \"L\",\n",
    "    130: \"M\",\n",
    "    140: \"N\",\n",
    "    150: \"O\",\n",
    "    160: \"P\",\n",
    "    170: \"Q\",\n",
    "    180: \"R\",\n",
    "    190: \"S\",\n",
    "    200: \"T\",\n",
    "    210: \"U\",\n",
    "    220: \"V\",\n",
    "    230: \"W\",\n",
    "    240: \"X\",\n",
    "    250: \"Y\",\n",
    "    260: \"Z\",\n",
    "    270: \"AA\",\n",
    "    280: \"AB\",\n",
    "    290: \"AC\",\n",
    "    300: \"AD\",\n",
    "    310: \"AE\",\n",
    "    320: \"AF\",\n",
    "    330: \"AG\",\n",
    "    340: \"AH\",\n",
    "    350: \"AI\",\n",
    "    360: \"AJ\",\n",
    "    370: \"AK\",\n",
    "    380: \"AL\",\n",
    "    390: \"AM\",\n",
    "    400: \"AN\",\n",
    "    410: \"AO\",\n",
    "    420: \"AP\",\n",
    "    430: \"AQ\",\n",
    "    440: \"AR\",\n",
    "    450: \"AS\",\n",
    "    460: \"AT\",\n",
    "    470: \"AU\",\n",
    "    480: \"AV\",\n",
    "    490: \"AW\",\n",
    "    500: \"AX\",\n",
    "    510: \"AY\",\n",
    "    520: \"AZ\",\n",
    "    530: \"BA\",\n",
    "    540: \"BB\",\n",
    "    550: \"BC\",\n",
    "    560: \"BD\",\n",
    "    570: \"BE\",\n",
    "    580: \"BF\",\n",
    "    590: \"BG\",\n",
    "    600: \"BH\",\n",
    "    610: \"BI\",\n",
    "    620: \"BJ\",\n",
    "    630: \"BK\",\n",
    "    640: \"BL\",\n",
    "    650: \"BM\",\n",
    "    660: \"BN\",\n",
    "    670: \"BO\",\n",
    "    680: \"BP\",\n",
    "    690: \"BQ\",\n",
    "    700: \"BR\",\n",
    "    710: \"BS\",\n",
    "    720: \"BT\",\n",
    "    730: \"BU\",\n",
    "    740: \"BV\",\n",
    "    750: \"BW\",\n",
    "    760: \"BX\",\n",
    "    770: \"BY\",\n",
    "    780: \"BZ\",\n",
    "    790: \"CA\",\n",
    "    800: \"CB\",\n",
    "    850: \"CC\",\n",
    "    860: \"CD\",\n",
    "    890: \"CE\",\n",
    "    900: \"CF\",\n",
    "}\n",
    "\n",
    "\n",
    "df[\"Appliances\"] = df[\"Appliances\"].map(value_to_letter_sorted)"
   ]
  },
  {
   "cell_type": "code",
   "execution_count": 3,
   "metadata": {},
   "outputs": [
    {
     "name": "stderr",
     "output_type": "stream",
     "text": [
      "/tmp/ipykernel_28029/433539873.py:10: DataConversionWarning: A column-vector y was passed when a 1d array was expected. Please change the shape of y to (n_samples,), for example using ravel().\n",
      "  model.fit(X_train, y_train)\n"
     ]
    },
    {
     "data": {
      "text/plain": [
       "0.2896882494004796"
      ]
     },
     "execution_count": 3,
     "metadata": {},
     "output_type": "execute_result"
    }
   ],
   "source": [
    "# Train model\n",
    "X = df.drop(\"Appliances\", axis=1)\n",
    "y = df[[\"Appliances\"]]\n",
    "X_train, X_test, y_train, y_test = train_test_split(X, y, test_size=0.3)\n",
    "\n",
    "\n",
    "model = RandomForestClassifier()\n",
    "\n",
    "\n",
    "model.fit(X_train, y_train)\n",
    "\n",
    "predictions = model.predict(X_test)\n",
    "\n",
    "\n",
    "score = accuracy_score(y_test, predictions)\n",
    "\n",
    "score"
   ]
  }
 ],
 "metadata": {
  "kernelspec": {
   "display_name": "Python 3",
   "language": "python",
   "name": "python3"
  },
  "language_info": {
   "codemirror_mode": {
    "name": "ipython",
    "version": 3
   },
   "file_extension": ".py",
   "mimetype": "text/x-python",
   "name": "python",
   "nbconvert_exporter": "python",
   "pygments_lexer": "ipython3",
   "version": "3.11.7"
  }
 },
 "nbformat": 4,
 "nbformat_minor": 2
}
