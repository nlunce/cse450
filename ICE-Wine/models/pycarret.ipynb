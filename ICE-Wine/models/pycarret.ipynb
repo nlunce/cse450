{
 "cells": [
  {
   "cell_type": "code",
   "execution_count": 2,
   "metadata": {},
   "outputs": [],
   "source": [
    "# Importing\n",
    "import pandas as pd\n",
    "import numpy as np\n",
    "from pycaret.classification import *\n",
    "\n",
    "\n",
    "pd.set_option(\"display.max_columns\", None)\n",
    "\n",
    "\n",
    "df = pd.read_csv(\"./wine-training.csv\")"
   ]
  },
  {
   "cell_type": "code",
   "execution_count": 3,
   "metadata": {},
   "outputs": [],
   "source": [
    "def preprocess(df):\n",
    "    return df"
   ]
  },
  {
   "cell_type": "code",
   "execution_count": 4,
   "metadata": {},
   "outputs": [],
   "source": [
    "df = preprocess(df)"
   ]
  },
  {
   "cell_type": "code",
   "execution_count": 5,
   "metadata": {},
   "outputs": [
    {
     "ename": "ValueError",
     "evalue": "Invalid value for the target parameter. Column Wine not found in the data.",
     "output_type": "error",
     "traceback": [
      "\u001b[0;31m---------------------------------------------------------------------------\u001b[0m",
      "\u001b[0;31mValueError\u001b[0m                                Traceback (most recent call last)",
      "Cell \u001b[0;32mIn[5], line 1\u001b[0m\n\u001b[0;32m----> 1\u001b[0m setup \u001b[38;5;241m=\u001b[39m \u001b[43msetup\u001b[49m\u001b[43m(\u001b[49m\u001b[43mdf\u001b[49m\u001b[43m,\u001b[49m\u001b[43m \u001b[49m\u001b[43mtarget\u001b[49m\u001b[38;5;241;43m=\u001b[39;49m\u001b[38;5;124;43m\"\u001b[39;49m\u001b[38;5;124;43mWine\u001b[39;49m\u001b[38;5;124;43m\"\u001b[39;49m\u001b[43m)\u001b[49m\n",
      "File \u001b[0;32m/usr/local/lib/python3.11/dist-packages/pycaret/classification/functional.py:595\u001b[0m, in \u001b[0;36msetup\u001b[0;34m(data, data_func, target, index, train_size, test_data, ordinal_features, numeric_features, categorical_features, date_features, text_features, ignore_features, keep_features, preprocess, create_date_columns, imputation_type, numeric_imputation, categorical_imputation, iterative_imputation_iters, numeric_iterative_imputer, categorical_iterative_imputer, text_features_method, max_encoding_ohe, encoding_method, rare_to_value, rare_value, polynomial_features, polynomial_degree, low_variance_threshold, group_features, drop_groups, remove_multicollinearity, multicollinearity_threshold, bin_numeric_features, remove_outliers, outliers_method, outliers_threshold, fix_imbalance, fix_imbalance_method, transformation, transformation_method, normalize, normalize_method, pca, pca_method, pca_components, feature_selection, feature_selection_method, feature_selection_estimator, n_features_to_select, custom_pipeline, custom_pipeline_position, data_split_shuffle, data_split_stratify, fold_strategy, fold, fold_shuffle, fold_groups, n_jobs, use_gpu, html, session_id, system_log, log_experiment, experiment_name, experiment_custom_tags, log_plots, log_profile, log_data, verbose, memory, profile, profile_kwargs)\u001b[0m\n\u001b[1;32m    593\u001b[0m exp \u001b[38;5;241m=\u001b[39m _EXPERIMENT_CLASS()\n\u001b[1;32m    594\u001b[0m set_current_experiment(exp)\n\u001b[0;32m--> 595\u001b[0m \u001b[38;5;28;01mreturn\u001b[39;00m \u001b[43mexp\u001b[49m\u001b[38;5;241;43m.\u001b[39;49m\u001b[43msetup\u001b[49m\u001b[43m(\u001b[49m\n\u001b[1;32m    596\u001b[0m \u001b[43m    \u001b[49m\u001b[43mdata\u001b[49m\u001b[38;5;241;43m=\u001b[39;49m\u001b[43mdata\u001b[49m\u001b[43m,\u001b[49m\n\u001b[1;32m    597\u001b[0m \u001b[43m    \u001b[49m\u001b[43mdata_func\u001b[49m\u001b[38;5;241;43m=\u001b[39;49m\u001b[43mdata_func\u001b[49m\u001b[43m,\u001b[49m\n\u001b[1;32m    598\u001b[0m \u001b[43m    \u001b[49m\u001b[43mtarget\u001b[49m\u001b[38;5;241;43m=\u001b[39;49m\u001b[43mtarget\u001b[49m\u001b[43m,\u001b[49m\n\u001b[1;32m    599\u001b[0m \u001b[43m    \u001b[49m\u001b[43mindex\u001b[49m\u001b[38;5;241;43m=\u001b[39;49m\u001b[43mindex\u001b[49m\u001b[43m,\u001b[49m\n\u001b[1;32m    600\u001b[0m \u001b[43m    \u001b[49m\u001b[43mtrain_size\u001b[49m\u001b[38;5;241;43m=\u001b[39;49m\u001b[43mtrain_size\u001b[49m\u001b[43m,\u001b[49m\n\u001b[1;32m    601\u001b[0m \u001b[43m    \u001b[49m\u001b[43mtest_data\u001b[49m\u001b[38;5;241;43m=\u001b[39;49m\u001b[43mtest_data\u001b[49m\u001b[43m,\u001b[49m\n\u001b[1;32m    602\u001b[0m \u001b[43m    \u001b[49m\u001b[43mordinal_features\u001b[49m\u001b[38;5;241;43m=\u001b[39;49m\u001b[43mordinal_features\u001b[49m\u001b[43m,\u001b[49m\n\u001b[1;32m    603\u001b[0m \u001b[43m    \u001b[49m\u001b[43mnumeric_features\u001b[49m\u001b[38;5;241;43m=\u001b[39;49m\u001b[43mnumeric_features\u001b[49m\u001b[43m,\u001b[49m\n\u001b[1;32m    604\u001b[0m \u001b[43m    \u001b[49m\u001b[43mcategorical_features\u001b[49m\u001b[38;5;241;43m=\u001b[39;49m\u001b[43mcategorical_features\u001b[49m\u001b[43m,\u001b[49m\n\u001b[1;32m    605\u001b[0m \u001b[43m    \u001b[49m\u001b[43mdate_features\u001b[49m\u001b[38;5;241;43m=\u001b[39;49m\u001b[43mdate_features\u001b[49m\u001b[43m,\u001b[49m\n\u001b[1;32m    606\u001b[0m \u001b[43m    \u001b[49m\u001b[43mtext_features\u001b[49m\u001b[38;5;241;43m=\u001b[39;49m\u001b[43mtext_features\u001b[49m\u001b[43m,\u001b[49m\n\u001b[1;32m    607\u001b[0m \u001b[43m    \u001b[49m\u001b[43mignore_features\u001b[49m\u001b[38;5;241;43m=\u001b[39;49m\u001b[43mignore_features\u001b[49m\u001b[43m,\u001b[49m\n\u001b[1;32m    608\u001b[0m \u001b[43m    \u001b[49m\u001b[43mkeep_features\u001b[49m\u001b[38;5;241;43m=\u001b[39;49m\u001b[43mkeep_features\u001b[49m\u001b[43m,\u001b[49m\n\u001b[1;32m    609\u001b[0m \u001b[43m    \u001b[49m\u001b[43mpreprocess\u001b[49m\u001b[38;5;241;43m=\u001b[39;49m\u001b[43mpreprocess\u001b[49m\u001b[43m,\u001b[49m\n\u001b[1;32m    610\u001b[0m \u001b[43m    \u001b[49m\u001b[43mcreate_date_columns\u001b[49m\u001b[38;5;241;43m=\u001b[39;49m\u001b[43mcreate_date_columns\u001b[49m\u001b[43m,\u001b[49m\n\u001b[1;32m    611\u001b[0m \u001b[43m    \u001b[49m\u001b[43mimputation_type\u001b[49m\u001b[38;5;241;43m=\u001b[39;49m\u001b[43mimputation_type\u001b[49m\u001b[43m,\u001b[49m\n\u001b[1;32m    612\u001b[0m \u001b[43m    \u001b[49m\u001b[43mnumeric_imputation\u001b[49m\u001b[38;5;241;43m=\u001b[39;49m\u001b[43mnumeric_imputation\u001b[49m\u001b[43m,\u001b[49m\n\u001b[1;32m    613\u001b[0m \u001b[43m    \u001b[49m\u001b[43mcategorical_imputation\u001b[49m\u001b[38;5;241;43m=\u001b[39;49m\u001b[43mcategorical_imputation\u001b[49m\u001b[43m,\u001b[49m\n\u001b[1;32m    614\u001b[0m \u001b[43m    \u001b[49m\u001b[43miterative_imputation_iters\u001b[49m\u001b[38;5;241;43m=\u001b[39;49m\u001b[43miterative_imputation_iters\u001b[49m\u001b[43m,\u001b[49m\n\u001b[1;32m    615\u001b[0m \u001b[43m    \u001b[49m\u001b[43mnumeric_iterative_imputer\u001b[49m\u001b[38;5;241;43m=\u001b[39;49m\u001b[43mnumeric_iterative_imputer\u001b[49m\u001b[43m,\u001b[49m\n\u001b[1;32m    616\u001b[0m \u001b[43m    \u001b[49m\u001b[43mcategorical_iterative_imputer\u001b[49m\u001b[38;5;241;43m=\u001b[39;49m\u001b[43mcategorical_iterative_imputer\u001b[49m\u001b[43m,\u001b[49m\n\u001b[1;32m    617\u001b[0m \u001b[43m    \u001b[49m\u001b[43mtext_features_method\u001b[49m\u001b[38;5;241;43m=\u001b[39;49m\u001b[43mtext_features_method\u001b[49m\u001b[43m,\u001b[49m\n\u001b[1;32m    618\u001b[0m \u001b[43m    \u001b[49m\u001b[43mmax_encoding_ohe\u001b[49m\u001b[38;5;241;43m=\u001b[39;49m\u001b[43mmax_encoding_ohe\u001b[49m\u001b[43m,\u001b[49m\n\u001b[1;32m    619\u001b[0m \u001b[43m    \u001b[49m\u001b[43mencoding_method\u001b[49m\u001b[38;5;241;43m=\u001b[39;49m\u001b[43mencoding_method\u001b[49m\u001b[43m,\u001b[49m\n\u001b[1;32m    620\u001b[0m \u001b[43m    \u001b[49m\u001b[43mrare_to_value\u001b[49m\u001b[38;5;241;43m=\u001b[39;49m\u001b[43mrare_to_value\u001b[49m\u001b[43m,\u001b[49m\n\u001b[1;32m    621\u001b[0m \u001b[43m    \u001b[49m\u001b[43mrare_value\u001b[49m\u001b[38;5;241;43m=\u001b[39;49m\u001b[43mrare_value\u001b[49m\u001b[43m,\u001b[49m\n\u001b[1;32m    622\u001b[0m \u001b[43m    \u001b[49m\u001b[43mpolynomial_features\u001b[49m\u001b[38;5;241;43m=\u001b[39;49m\u001b[43mpolynomial_features\u001b[49m\u001b[43m,\u001b[49m\n\u001b[1;32m    623\u001b[0m \u001b[43m    \u001b[49m\u001b[43mpolynomial_degree\u001b[49m\u001b[38;5;241;43m=\u001b[39;49m\u001b[43mpolynomial_degree\u001b[49m\u001b[43m,\u001b[49m\n\u001b[1;32m    624\u001b[0m \u001b[43m    \u001b[49m\u001b[43mlow_variance_threshold\u001b[49m\u001b[38;5;241;43m=\u001b[39;49m\u001b[43mlow_variance_threshold\u001b[49m\u001b[43m,\u001b[49m\n\u001b[1;32m    625\u001b[0m \u001b[43m    \u001b[49m\u001b[43mgroup_features\u001b[49m\u001b[38;5;241;43m=\u001b[39;49m\u001b[43mgroup_features\u001b[49m\u001b[43m,\u001b[49m\n\u001b[1;32m    626\u001b[0m \u001b[43m    \u001b[49m\u001b[43mdrop_groups\u001b[49m\u001b[38;5;241;43m=\u001b[39;49m\u001b[43mdrop_groups\u001b[49m\u001b[43m,\u001b[49m\n\u001b[1;32m    627\u001b[0m \u001b[43m    \u001b[49m\u001b[43mremove_multicollinearity\u001b[49m\u001b[38;5;241;43m=\u001b[39;49m\u001b[43mremove_multicollinearity\u001b[49m\u001b[43m,\u001b[49m\n\u001b[1;32m    628\u001b[0m \u001b[43m    \u001b[49m\u001b[43mmulticollinearity_threshold\u001b[49m\u001b[38;5;241;43m=\u001b[39;49m\u001b[43mmulticollinearity_threshold\u001b[49m\u001b[43m,\u001b[49m\n\u001b[1;32m    629\u001b[0m \u001b[43m    \u001b[49m\u001b[43mbin_numeric_features\u001b[49m\u001b[38;5;241;43m=\u001b[39;49m\u001b[43mbin_numeric_features\u001b[49m\u001b[43m,\u001b[49m\n\u001b[1;32m    630\u001b[0m \u001b[43m    \u001b[49m\u001b[43mremove_outliers\u001b[49m\u001b[38;5;241;43m=\u001b[39;49m\u001b[43mremove_outliers\u001b[49m\u001b[43m,\u001b[49m\n\u001b[1;32m    631\u001b[0m \u001b[43m    \u001b[49m\u001b[43moutliers_method\u001b[49m\u001b[38;5;241;43m=\u001b[39;49m\u001b[43moutliers_method\u001b[49m\u001b[43m,\u001b[49m\n\u001b[1;32m    632\u001b[0m \u001b[43m    \u001b[49m\u001b[43moutliers_threshold\u001b[49m\u001b[38;5;241;43m=\u001b[39;49m\u001b[43moutliers_threshold\u001b[49m\u001b[43m,\u001b[49m\n\u001b[1;32m    633\u001b[0m \u001b[43m    \u001b[49m\u001b[43mfix_imbalance\u001b[49m\u001b[38;5;241;43m=\u001b[39;49m\u001b[43mfix_imbalance\u001b[49m\u001b[43m,\u001b[49m\n\u001b[1;32m    634\u001b[0m \u001b[43m    \u001b[49m\u001b[43mfix_imbalance_method\u001b[49m\u001b[38;5;241;43m=\u001b[39;49m\u001b[43mfix_imbalance_method\u001b[49m\u001b[43m,\u001b[49m\n\u001b[1;32m    635\u001b[0m \u001b[43m    \u001b[49m\u001b[43mtransformation\u001b[49m\u001b[38;5;241;43m=\u001b[39;49m\u001b[43mtransformation\u001b[49m\u001b[43m,\u001b[49m\n\u001b[1;32m    636\u001b[0m \u001b[43m    \u001b[49m\u001b[43mtransformation_method\u001b[49m\u001b[38;5;241;43m=\u001b[39;49m\u001b[43mtransformation_method\u001b[49m\u001b[43m,\u001b[49m\n\u001b[1;32m    637\u001b[0m \u001b[43m    \u001b[49m\u001b[43mnormalize\u001b[49m\u001b[38;5;241;43m=\u001b[39;49m\u001b[43mnormalize\u001b[49m\u001b[43m,\u001b[49m\n\u001b[1;32m    638\u001b[0m \u001b[43m    \u001b[49m\u001b[43mnormalize_method\u001b[49m\u001b[38;5;241;43m=\u001b[39;49m\u001b[43mnormalize_method\u001b[49m\u001b[43m,\u001b[49m\n\u001b[1;32m    639\u001b[0m \u001b[43m    \u001b[49m\u001b[43mpca\u001b[49m\u001b[38;5;241;43m=\u001b[39;49m\u001b[43mpca\u001b[49m\u001b[43m,\u001b[49m\n\u001b[1;32m    640\u001b[0m \u001b[43m    \u001b[49m\u001b[43mpca_method\u001b[49m\u001b[38;5;241;43m=\u001b[39;49m\u001b[43mpca_method\u001b[49m\u001b[43m,\u001b[49m\n\u001b[1;32m    641\u001b[0m \u001b[43m    \u001b[49m\u001b[43mpca_components\u001b[49m\u001b[38;5;241;43m=\u001b[39;49m\u001b[43mpca_components\u001b[49m\u001b[43m,\u001b[49m\n\u001b[1;32m    642\u001b[0m \u001b[43m    \u001b[49m\u001b[43mfeature_selection\u001b[49m\u001b[38;5;241;43m=\u001b[39;49m\u001b[43mfeature_selection\u001b[49m\u001b[43m,\u001b[49m\n\u001b[1;32m    643\u001b[0m \u001b[43m    \u001b[49m\u001b[43mfeature_selection_method\u001b[49m\u001b[38;5;241;43m=\u001b[39;49m\u001b[43mfeature_selection_method\u001b[49m\u001b[43m,\u001b[49m\n\u001b[1;32m    644\u001b[0m \u001b[43m    \u001b[49m\u001b[43mfeature_selection_estimator\u001b[49m\u001b[38;5;241;43m=\u001b[39;49m\u001b[43mfeature_selection_estimator\u001b[49m\u001b[43m,\u001b[49m\n\u001b[1;32m    645\u001b[0m \u001b[43m    \u001b[49m\u001b[43mn_features_to_select\u001b[49m\u001b[38;5;241;43m=\u001b[39;49m\u001b[43mn_features_to_select\u001b[49m\u001b[43m,\u001b[49m\n\u001b[1;32m    646\u001b[0m \u001b[43m    \u001b[49m\u001b[43mcustom_pipeline\u001b[49m\u001b[38;5;241;43m=\u001b[39;49m\u001b[43mcustom_pipeline\u001b[49m\u001b[43m,\u001b[49m\n\u001b[1;32m    647\u001b[0m \u001b[43m    \u001b[49m\u001b[43mcustom_pipeline_position\u001b[49m\u001b[38;5;241;43m=\u001b[39;49m\u001b[43mcustom_pipeline_position\u001b[49m\u001b[43m,\u001b[49m\n\u001b[1;32m    648\u001b[0m \u001b[43m    \u001b[49m\u001b[43mdata_split_shuffle\u001b[49m\u001b[38;5;241;43m=\u001b[39;49m\u001b[43mdata_split_shuffle\u001b[49m\u001b[43m,\u001b[49m\n\u001b[1;32m    649\u001b[0m \u001b[43m    \u001b[49m\u001b[43mdata_split_stratify\u001b[49m\u001b[38;5;241;43m=\u001b[39;49m\u001b[43mdata_split_stratify\u001b[49m\u001b[43m,\u001b[49m\n\u001b[1;32m    650\u001b[0m \u001b[43m    \u001b[49m\u001b[43mfold_strategy\u001b[49m\u001b[38;5;241;43m=\u001b[39;49m\u001b[43mfold_strategy\u001b[49m\u001b[43m,\u001b[49m\n\u001b[1;32m    651\u001b[0m \u001b[43m    \u001b[49m\u001b[43mfold\u001b[49m\u001b[38;5;241;43m=\u001b[39;49m\u001b[43mfold\u001b[49m\u001b[43m,\u001b[49m\n\u001b[1;32m    652\u001b[0m \u001b[43m    \u001b[49m\u001b[43mfold_shuffle\u001b[49m\u001b[38;5;241;43m=\u001b[39;49m\u001b[43mfold_shuffle\u001b[49m\u001b[43m,\u001b[49m\n\u001b[1;32m    653\u001b[0m \u001b[43m    \u001b[49m\u001b[43mfold_groups\u001b[49m\u001b[38;5;241;43m=\u001b[39;49m\u001b[43mfold_groups\u001b[49m\u001b[43m,\u001b[49m\n\u001b[1;32m    654\u001b[0m \u001b[43m    \u001b[49m\u001b[43mn_jobs\u001b[49m\u001b[38;5;241;43m=\u001b[39;49m\u001b[43mn_jobs\u001b[49m\u001b[43m,\u001b[49m\n\u001b[1;32m    655\u001b[0m \u001b[43m    \u001b[49m\u001b[43muse_gpu\u001b[49m\u001b[38;5;241;43m=\u001b[39;49m\u001b[43muse_gpu\u001b[49m\u001b[43m,\u001b[49m\n\u001b[1;32m    656\u001b[0m \u001b[43m    \u001b[49m\u001b[43mhtml\u001b[49m\u001b[38;5;241;43m=\u001b[39;49m\u001b[43mhtml\u001b[49m\u001b[43m,\u001b[49m\n\u001b[1;32m    657\u001b[0m \u001b[43m    \u001b[49m\u001b[43msession_id\u001b[49m\u001b[38;5;241;43m=\u001b[39;49m\u001b[43msession_id\u001b[49m\u001b[43m,\u001b[49m\n\u001b[1;32m    658\u001b[0m \u001b[43m    \u001b[49m\u001b[43msystem_log\u001b[49m\u001b[38;5;241;43m=\u001b[39;49m\u001b[43msystem_log\u001b[49m\u001b[43m,\u001b[49m\n\u001b[1;32m    659\u001b[0m \u001b[43m    \u001b[49m\u001b[43mlog_experiment\u001b[49m\u001b[38;5;241;43m=\u001b[39;49m\u001b[43mlog_experiment\u001b[49m\u001b[43m,\u001b[49m\n\u001b[1;32m    660\u001b[0m \u001b[43m    \u001b[49m\u001b[43mexperiment_name\u001b[49m\u001b[38;5;241;43m=\u001b[39;49m\u001b[43mexperiment_name\u001b[49m\u001b[43m,\u001b[49m\n\u001b[1;32m    661\u001b[0m \u001b[43m    \u001b[49m\u001b[43mexperiment_custom_tags\u001b[49m\u001b[38;5;241;43m=\u001b[39;49m\u001b[43mexperiment_custom_tags\u001b[49m\u001b[43m,\u001b[49m\n\u001b[1;32m    662\u001b[0m \u001b[43m    \u001b[49m\u001b[43mlog_plots\u001b[49m\u001b[38;5;241;43m=\u001b[39;49m\u001b[43mlog_plots\u001b[49m\u001b[43m,\u001b[49m\n\u001b[1;32m    663\u001b[0m \u001b[43m    \u001b[49m\u001b[43mlog_profile\u001b[49m\u001b[38;5;241;43m=\u001b[39;49m\u001b[43mlog_profile\u001b[49m\u001b[43m,\u001b[49m\n\u001b[1;32m    664\u001b[0m \u001b[43m    \u001b[49m\u001b[43mlog_data\u001b[49m\u001b[38;5;241;43m=\u001b[39;49m\u001b[43mlog_data\u001b[49m\u001b[43m,\u001b[49m\n\u001b[1;32m    665\u001b[0m \u001b[43m    \u001b[49m\u001b[43mverbose\u001b[49m\u001b[38;5;241;43m=\u001b[39;49m\u001b[43mverbose\u001b[49m\u001b[43m,\u001b[49m\n\u001b[1;32m    666\u001b[0m \u001b[43m    \u001b[49m\u001b[43mmemory\u001b[49m\u001b[38;5;241;43m=\u001b[39;49m\u001b[43mmemory\u001b[49m\u001b[43m,\u001b[49m\n\u001b[1;32m    667\u001b[0m \u001b[43m    \u001b[49m\u001b[43mprofile\u001b[49m\u001b[38;5;241;43m=\u001b[39;49m\u001b[43mprofile\u001b[49m\u001b[43m,\u001b[49m\n\u001b[1;32m    668\u001b[0m \u001b[43m    \u001b[49m\u001b[43mprofile_kwargs\u001b[49m\u001b[38;5;241;43m=\u001b[39;49m\u001b[43mprofile_kwargs\u001b[49m\u001b[43m,\u001b[49m\n\u001b[1;32m    669\u001b[0m \u001b[43m\u001b[49m\u001b[43m)\u001b[49m\n",
      "File \u001b[0;32m/usr/local/lib/python3.11/dist-packages/pycaret/classification/oop.py:744\u001b[0m, in \u001b[0;36mClassificationExperiment.setup\u001b[0;34m(self, data, data_func, target, index, train_size, test_data, ordinal_features, numeric_features, categorical_features, date_features, text_features, ignore_features, keep_features, preprocess, create_date_columns, imputation_type, numeric_imputation, categorical_imputation, iterative_imputation_iters, numeric_iterative_imputer, categorical_iterative_imputer, text_features_method, max_encoding_ohe, encoding_method, rare_to_value, rare_value, polynomial_features, polynomial_degree, low_variance_threshold, group_features, drop_groups, remove_multicollinearity, multicollinearity_threshold, bin_numeric_features, remove_outliers, outliers_method, outliers_threshold, fix_imbalance, fix_imbalance_method, transformation, transformation_method, normalize, normalize_method, pca, pca_method, pca_components, feature_selection, feature_selection_method, feature_selection_estimator, n_features_to_select, custom_pipeline, custom_pipeline_position, data_split_shuffle, data_split_stratify, fold_strategy, fold, fold_shuffle, fold_groups, n_jobs, use_gpu, html, session_id, system_log, log_experiment, experiment_name, experiment_custom_tags, log_plots, log_profile, log_data, engine, verbose, memory, profile, profile_kwargs)\u001b[0m\n\u001b[1;32m    741\u001b[0m \u001b[38;5;28;01mif\u001b[39;00m data_func \u001b[38;5;129;01mis\u001b[39;00m \u001b[38;5;129;01mnot\u001b[39;00m \u001b[38;5;28;01mNone\u001b[39;00m:\n\u001b[1;32m    742\u001b[0m     data \u001b[38;5;241m=\u001b[39m data_func()\n\u001b[0;32m--> 744\u001b[0m \u001b[38;5;28mself\u001b[39m\u001b[38;5;241m.\u001b[39mdata \u001b[38;5;241m=\u001b[39m \u001b[38;5;28;43mself\u001b[39;49m\u001b[38;5;241;43m.\u001b[39;49m\u001b[43m_prepare_dataset\u001b[49m\u001b[43m(\u001b[49m\u001b[43mdata\u001b[49m\u001b[43m,\u001b[49m\u001b[43m \u001b[49m\u001b[43mtarget\u001b[49m\u001b[43m)\u001b[49m\n\u001b[1;32m    745\u001b[0m \u001b[38;5;28mself\u001b[39m\u001b[38;5;241m.\u001b[39mtarget_param \u001b[38;5;241m=\u001b[39m \u001b[38;5;28mself\u001b[39m\u001b[38;5;241m.\u001b[39mdata\u001b[38;5;241m.\u001b[39mcolumns[\u001b[38;5;241m-\u001b[39m\u001b[38;5;241m1\u001b[39m]\n\u001b[1;32m    746\u001b[0m \u001b[38;5;28mself\u001b[39m\u001b[38;5;241m.\u001b[39mindex \u001b[38;5;241m=\u001b[39m index\n",
      "File \u001b[0;32m/usr/local/lib/python3.11/dist-packages/pycaret/internal/preprocess/preprocessor.py:150\u001b[0m, in \u001b[0;36mPreprocessor._prepare_dataset\u001b[0;34m(self, X, y)\u001b[0m\n\u001b[1;32m    148\u001b[0m \u001b[38;5;28;01melif\u001b[39;00m \u001b[38;5;28misinstance\u001b[39m(y, \u001b[38;5;28mstr\u001b[39m):\n\u001b[1;32m    149\u001b[0m     \u001b[38;5;28;01mif\u001b[39;00m y \u001b[38;5;129;01mnot\u001b[39;00m \u001b[38;5;129;01min\u001b[39;00m X\u001b[38;5;241m.\u001b[39mcolumns:\n\u001b[0;32m--> 150\u001b[0m         \u001b[38;5;28;01mraise\u001b[39;00m \u001b[38;5;167;01mValueError\u001b[39;00m(\n\u001b[1;32m    151\u001b[0m             \u001b[38;5;124m\"\u001b[39m\u001b[38;5;124mInvalid value for the target parameter. \u001b[39m\u001b[38;5;124m\"\u001b[39m\n\u001b[1;32m    152\u001b[0m             \u001b[38;5;124mf\u001b[39m\u001b[38;5;124m\"\u001b[39m\u001b[38;5;124mColumn \u001b[39m\u001b[38;5;132;01m{\u001b[39;00my\u001b[38;5;132;01m}\u001b[39;00m\u001b[38;5;124m not found in the data.\u001b[39m\u001b[38;5;124m\"\u001b[39m\n\u001b[1;32m    153\u001b[0m         )\n\u001b[1;32m    155\u001b[0m     X, y \u001b[38;5;241m=\u001b[39m X\u001b[38;5;241m.\u001b[39mdrop(y, axis\u001b[38;5;241m=\u001b[39m\u001b[38;5;241m1\u001b[39m), X[y]\n\u001b[1;32m    157\u001b[0m \u001b[38;5;28;01melif\u001b[39;00m \u001b[38;5;28misinstance\u001b[39m(y, \u001b[38;5;28mint\u001b[39m):\n",
      "\u001b[0;31mValueError\u001b[0m: Invalid value for the target parameter. Column Wine not found in the data."
     ]
    }
   ],
   "source": [
    "setup = setup(df, target=\"wine\")"
   ]
  },
  {
   "cell_type": "code",
   "execution_count": null,
   "metadata": {},
   "outputs": [
    {
     "data": {
      "text/html": [],
      "text/plain": [
       "<IPython.core.display.HTML object>"
      ]
     },
     "metadata": {},
     "output_type": "display_data"
    },
    {
     "data": {
      "text/html": [
       "<style type=\"text/css\">\n",
       "#T_5ae9b th {\n",
       "  text-align: left;\n",
       "}\n",
       "#T_5ae9b_row0_col0, #T_5ae9b_row1_col0, #T_5ae9b_row1_col1, #T_5ae9b_row1_col2, #T_5ae9b_row1_col3, #T_5ae9b_row1_col4, #T_5ae9b_row1_col5, #T_5ae9b_row1_col6, #T_5ae9b_row1_col7, #T_5ae9b_row2_col0, #T_5ae9b_row2_col1, #T_5ae9b_row2_col2, #T_5ae9b_row2_col3, #T_5ae9b_row2_col4, #T_5ae9b_row2_col5, #T_5ae9b_row2_col6, #T_5ae9b_row2_col7, #T_5ae9b_row3_col0, #T_5ae9b_row3_col1, #T_5ae9b_row3_col2, #T_5ae9b_row3_col3, #T_5ae9b_row3_col4, #T_5ae9b_row3_col5, #T_5ae9b_row3_col6, #T_5ae9b_row3_col7, #T_5ae9b_row4_col0, #T_5ae9b_row4_col1, #T_5ae9b_row4_col2, #T_5ae9b_row4_col3, #T_5ae9b_row4_col4, #T_5ae9b_row4_col5, #T_5ae9b_row4_col6, #T_5ae9b_row4_col7, #T_5ae9b_row5_col0, #T_5ae9b_row5_col1, #T_5ae9b_row5_col2, #T_5ae9b_row5_col3, #T_5ae9b_row5_col4, #T_5ae9b_row5_col5, #T_5ae9b_row5_col6, #T_5ae9b_row5_col7, #T_5ae9b_row6_col0, #T_5ae9b_row6_col1, #T_5ae9b_row6_col2, #T_5ae9b_row6_col3, #T_5ae9b_row6_col4, #T_5ae9b_row6_col5, #T_5ae9b_row6_col6, #T_5ae9b_row6_col7, #T_5ae9b_row7_col0, #T_5ae9b_row7_col1, #T_5ae9b_row7_col2, #T_5ae9b_row7_col3, #T_5ae9b_row7_col4, #T_5ae9b_row7_col5, #T_5ae9b_row7_col6, #T_5ae9b_row7_col7, #T_5ae9b_row8_col0, #T_5ae9b_row8_col1, #T_5ae9b_row8_col2, #T_5ae9b_row8_col3, #T_5ae9b_row8_col4, #T_5ae9b_row8_col5, #T_5ae9b_row8_col6, #T_5ae9b_row8_col7, #T_5ae9b_row9_col0, #T_5ae9b_row9_col1, #T_5ae9b_row9_col2, #T_5ae9b_row9_col3, #T_5ae9b_row9_col4, #T_5ae9b_row9_col5, #T_5ae9b_row9_col6, #T_5ae9b_row9_col7, #T_5ae9b_row10_col0, #T_5ae9b_row10_col1, #T_5ae9b_row10_col2, #T_5ae9b_row10_col3, #T_5ae9b_row10_col4, #T_5ae9b_row10_col5, #T_5ae9b_row10_col6, #T_5ae9b_row10_col7, #T_5ae9b_row11_col0, #T_5ae9b_row11_col1, #T_5ae9b_row11_col2, #T_5ae9b_row11_col3, #T_5ae9b_row11_col4, #T_5ae9b_row11_col5, #T_5ae9b_row11_col6, #T_5ae9b_row11_col7, #T_5ae9b_row12_col0, #T_5ae9b_row12_col1, #T_5ae9b_row12_col2, #T_5ae9b_row12_col3, #T_5ae9b_row12_col4, #T_5ae9b_row12_col5, #T_5ae9b_row12_col6, #T_5ae9b_row12_col7, #T_5ae9b_row13_col0, #T_5ae9b_row13_col1, #T_5ae9b_row13_col2, #T_5ae9b_row13_col3, #T_5ae9b_row13_col4, #T_5ae9b_row13_col5, #T_5ae9b_row13_col6, #T_5ae9b_row13_col7, #T_5ae9b_row14_col0, #T_5ae9b_row14_col1, #T_5ae9b_row14_col2, #T_5ae9b_row14_col3, #T_5ae9b_row14_col4, #T_5ae9b_row14_col5, #T_5ae9b_row14_col6, #T_5ae9b_row14_col7 {\n",
       "  text-align: left;\n",
       "}\n",
       "#T_5ae9b_row0_col1, #T_5ae9b_row0_col2, #T_5ae9b_row0_col3, #T_5ae9b_row0_col4, #T_5ae9b_row0_col5, #T_5ae9b_row0_col6, #T_5ae9b_row0_col7 {\n",
       "  text-align: left;\n",
       "  background-color: yellow;\n",
       "}\n",
       "#T_5ae9b_row0_col8, #T_5ae9b_row1_col8, #T_5ae9b_row3_col8, #T_5ae9b_row5_col8, #T_5ae9b_row6_col8, #T_5ae9b_row7_col8, #T_5ae9b_row8_col8, #T_5ae9b_row9_col8, #T_5ae9b_row10_col8, #T_5ae9b_row11_col8, #T_5ae9b_row12_col8, #T_5ae9b_row13_col8 {\n",
       "  text-align: left;\n",
       "  background-color: lightgrey;\n",
       "}\n",
       "#T_5ae9b_row2_col8, #T_5ae9b_row4_col8, #T_5ae9b_row14_col8 {\n",
       "  text-align: left;\n",
       "  background-color: yellow;\n",
       "  background-color: lightgrey;\n",
       "}\n",
       "</style>\n",
       "<table id=\"T_5ae9b\">\n",
       "  <thead>\n",
       "    <tr>\n",
       "      <th class=\"blank level0\" >&nbsp;</th>\n",
       "      <th id=\"T_5ae9b_level0_col0\" class=\"col_heading level0 col0\" >Model</th>\n",
       "      <th id=\"T_5ae9b_level0_col1\" class=\"col_heading level0 col1\" >Accuracy</th>\n",
       "      <th id=\"T_5ae9b_level0_col2\" class=\"col_heading level0 col2\" >AUC</th>\n",
       "      <th id=\"T_5ae9b_level0_col3\" class=\"col_heading level0 col3\" >Recall</th>\n",
       "      <th id=\"T_5ae9b_level0_col4\" class=\"col_heading level0 col4\" >Prec.</th>\n",
       "      <th id=\"T_5ae9b_level0_col5\" class=\"col_heading level0 col5\" >F1</th>\n",
       "      <th id=\"T_5ae9b_level0_col6\" class=\"col_heading level0 col6\" >Kappa</th>\n",
       "      <th id=\"T_5ae9b_level0_col7\" class=\"col_heading level0 col7\" >MCC</th>\n",
       "      <th id=\"T_5ae9b_level0_col8\" class=\"col_heading level0 col8\" >TT (Sec)</th>\n",
       "    </tr>\n",
       "  </thead>\n",
       "  <tbody>\n",
       "    <tr>\n",
       "      <th id=\"T_5ae9b_level0_row0\" class=\"row_heading level0 row0\" >lr</th>\n",
       "      <td id=\"T_5ae9b_row0_col0\" class=\"data row0 col0\" >Logistic Regression</td>\n",
       "      <td id=\"T_5ae9b_row0_col1\" class=\"data row0 col1\" >0.9362</td>\n",
       "      <td id=\"T_5ae9b_row0_col2\" class=\"data row0 col2\" >0.9807</td>\n",
       "      <td id=\"T_5ae9b_row0_col3\" class=\"data row0 col3\" >0.9362</td>\n",
       "      <td id=\"T_5ae9b_row0_col4\" class=\"data row0 col4\" >0.9367</td>\n",
       "      <td id=\"T_5ae9b_row0_col5\" class=\"data row0 col5\" >0.9362</td>\n",
       "      <td id=\"T_5ae9b_row0_col6\" class=\"data row0 col6\" >0.8694</td>\n",
       "      <td id=\"T_5ae9b_row0_col7\" class=\"data row0 col7\" >0.8699</td>\n",
       "      <td id=\"T_5ae9b_row0_col8\" class=\"data row0 col8\" >0.4120</td>\n",
       "    </tr>\n",
       "    <tr>\n",
       "      <th id=\"T_5ae9b_level0_row1\" class=\"row_heading level0 row1\" >ridge</th>\n",
       "      <td id=\"T_5ae9b_row1_col0\" class=\"data row1 col0\" >Ridge Classifier</td>\n",
       "      <td id=\"T_5ae9b_row1_col1\" class=\"data row1 col1\" >0.9348</td>\n",
       "      <td id=\"T_5ae9b_row1_col2\" class=\"data row1 col2\" >0.0000</td>\n",
       "      <td id=\"T_5ae9b_row1_col3\" class=\"data row1 col3\" >0.9348</td>\n",
       "      <td id=\"T_5ae9b_row1_col4\" class=\"data row1 col4\" >0.9354</td>\n",
       "      <td id=\"T_5ae9b_row1_col5\" class=\"data row1 col5\" >0.9347</td>\n",
       "      <td id=\"T_5ae9b_row1_col6\" class=\"data row1 col6\" >0.8662</td>\n",
       "      <td id=\"T_5ae9b_row1_col7\" class=\"data row1 col7\" >0.8670</td>\n",
       "      <td id=\"T_5ae9b_row1_col8\" class=\"data row1 col8\" >0.0290</td>\n",
       "    </tr>\n",
       "    <tr>\n",
       "      <th id=\"T_5ae9b_level0_row2\" class=\"row_heading level0 row2\" >lda</th>\n",
       "      <td id=\"T_5ae9b_row2_col0\" class=\"data row2 col0\" >Linear Discriminant Analysis</td>\n",
       "      <td id=\"T_5ae9b_row2_col1\" class=\"data row2 col1\" >0.9339</td>\n",
       "      <td id=\"T_5ae9b_row2_col2\" class=\"data row2 col2\" >0.9806</td>\n",
       "      <td id=\"T_5ae9b_row2_col3\" class=\"data row2 col3\" >0.9339</td>\n",
       "      <td id=\"T_5ae9b_row2_col4\" class=\"data row2 col4\" >0.9345</td>\n",
       "      <td id=\"T_5ae9b_row2_col5\" class=\"data row2 col5\" >0.9337</td>\n",
       "      <td id=\"T_5ae9b_row2_col6\" class=\"data row2 col6\" >0.8641</td>\n",
       "      <td id=\"T_5ae9b_row2_col7\" class=\"data row2 col7\" >0.8650</td>\n",
       "      <td id=\"T_5ae9b_row2_col8\" class=\"data row2 col8\" >0.0230</td>\n",
       "    </tr>\n",
       "    <tr>\n",
       "      <th id=\"T_5ae9b_level0_row3\" class=\"row_heading level0 row3\" >ada</th>\n",
       "      <td id=\"T_5ae9b_row3_col0\" class=\"data row3 col0\" >Ada Boost Classifier</td>\n",
       "      <td id=\"T_5ae9b_row3_col1\" class=\"data row3 col1\" >0.9311</td>\n",
       "      <td id=\"T_5ae9b_row3_col2\" class=\"data row3 col2\" >0.9736</td>\n",
       "      <td id=\"T_5ae9b_row3_col3\" class=\"data row3 col3\" >0.9311</td>\n",
       "      <td id=\"T_5ae9b_row3_col4\" class=\"data row3 col4\" >0.9314</td>\n",
       "      <td id=\"T_5ae9b_row3_col5\" class=\"data row3 col5\" >0.9310</td>\n",
       "      <td id=\"T_5ae9b_row3_col6\" class=\"data row3 col6\" >0.8587</td>\n",
       "      <td id=\"T_5ae9b_row3_col7\" class=\"data row3 col7\" >0.8592</td>\n",
       "      <td id=\"T_5ae9b_row3_col8\" class=\"data row3 col8\" >0.1270</td>\n",
       "    </tr>\n",
       "    <tr>\n",
       "      <th id=\"T_5ae9b_level0_row4\" class=\"row_heading level0 row4\" >qda</th>\n",
       "      <td id=\"T_5ae9b_row4_col0\" class=\"data row4 col0\" >Quadratic Discriminant Analysis</td>\n",
       "      <td id=\"T_5ae9b_row4_col1\" class=\"data row4 col1\" >0.9302</td>\n",
       "      <td id=\"T_5ae9b_row4_col2\" class=\"data row4 col2\" >0.9768</td>\n",
       "      <td id=\"T_5ae9b_row4_col3\" class=\"data row4 col3\" >0.9302</td>\n",
       "      <td id=\"T_5ae9b_row4_col4\" class=\"data row4 col4\" >0.9314</td>\n",
       "      <td id=\"T_5ae9b_row4_col5\" class=\"data row4 col5\" >0.9303</td>\n",
       "      <td id=\"T_5ae9b_row4_col6\" class=\"data row4 col6\" >0.8577</td>\n",
       "      <td id=\"T_5ae9b_row4_col7\" class=\"data row4 col7\" >0.8586</td>\n",
       "      <td id=\"T_5ae9b_row4_col8\" class=\"data row4 col8\" >0.0230</td>\n",
       "    </tr>\n",
       "    <tr>\n",
       "      <th id=\"T_5ae9b_level0_row5\" class=\"row_heading level0 row5\" >gbc</th>\n",
       "      <td id=\"T_5ae9b_row5_col0\" class=\"data row5 col0\" >Gradient Boosting Classifier</td>\n",
       "      <td id=\"T_5ae9b_row5_col1\" class=\"data row5 col1\" >0.9302</td>\n",
       "      <td id=\"T_5ae9b_row5_col2\" class=\"data row5 col2\" >0.9756</td>\n",
       "      <td id=\"T_5ae9b_row5_col3\" class=\"data row5 col3\" >0.9302</td>\n",
       "      <td id=\"T_5ae9b_row5_col4\" class=\"data row5 col4\" >0.9305</td>\n",
       "      <td id=\"T_5ae9b_row5_col5\" class=\"data row5 col5\" >0.9301</td>\n",
       "      <td id=\"T_5ae9b_row5_col6\" class=\"data row5 col6\" >0.8570</td>\n",
       "      <td id=\"T_5ae9b_row5_col7\" class=\"data row5 col7\" >0.8574</td>\n",
       "      <td id=\"T_5ae9b_row5_col8\" class=\"data row5 col8\" >0.2390</td>\n",
       "    </tr>\n",
       "    <tr>\n",
       "      <th id=\"T_5ae9b_level0_row6\" class=\"row_heading level0 row6\" >rf</th>\n",
       "      <td id=\"T_5ae9b_row6_col0\" class=\"data row6 col0\" >Random Forest Classifier</td>\n",
       "      <td id=\"T_5ae9b_row6_col1\" class=\"data row6 col1\" >0.9259</td>\n",
       "      <td id=\"T_5ae9b_row6_col2\" class=\"data row6 col2\" >0.9734</td>\n",
       "      <td id=\"T_5ae9b_row6_col3\" class=\"data row6 col3\" >0.9259</td>\n",
       "      <td id=\"T_5ae9b_row6_col4\" class=\"data row6 col4\" >0.9264</td>\n",
       "      <td id=\"T_5ae9b_row6_col5\" class=\"data row6 col5\" >0.9259</td>\n",
       "      <td id=\"T_5ae9b_row6_col6\" class=\"data row6 col6\" >0.8483</td>\n",
       "      <td id=\"T_5ae9b_row6_col7\" class=\"data row6 col7\" >0.8488</td>\n",
       "      <td id=\"T_5ae9b_row6_col8\" class=\"data row6 col8\" >0.2350</td>\n",
       "    </tr>\n",
       "    <tr>\n",
       "      <th id=\"T_5ae9b_level0_row7\" class=\"row_heading level0 row7\" >et</th>\n",
       "      <td id=\"T_5ae9b_row7_col0\" class=\"data row7 col0\" >Extra Trees Classifier</td>\n",
       "      <td id=\"T_5ae9b_row7_col1\" class=\"data row7 col1\" >0.9217</td>\n",
       "      <td id=\"T_5ae9b_row7_col2\" class=\"data row7 col2\" >0.9739</td>\n",
       "      <td id=\"T_5ae9b_row7_col3\" class=\"data row7 col3\" >0.9217</td>\n",
       "      <td id=\"T_5ae9b_row7_col4\" class=\"data row7 col4\" >0.9223</td>\n",
       "      <td id=\"T_5ae9b_row7_col5\" class=\"data row7 col5\" >0.9217</td>\n",
       "      <td id=\"T_5ae9b_row7_col6\" class=\"data row7 col6\" >0.8397</td>\n",
       "      <td id=\"T_5ae9b_row7_col7\" class=\"data row7 col7\" >0.8403</td>\n",
       "      <td id=\"T_5ae9b_row7_col8\" class=\"data row7 col8\" >0.1370</td>\n",
       "    </tr>\n",
       "    <tr>\n",
       "      <th id=\"T_5ae9b_level0_row8\" class=\"row_heading level0 row8\" >lightgbm</th>\n",
       "      <td id=\"T_5ae9b_row8_col0\" class=\"data row8 col0\" >Light Gradient Boosting Machine</td>\n",
       "      <td id=\"T_5ae9b_row8_col1\" class=\"data row8 col1\" >0.9217</td>\n",
       "      <td id=\"T_5ae9b_row8_col2\" class=\"data row8 col2\" >0.9726</td>\n",
       "      <td id=\"T_5ae9b_row8_col3\" class=\"data row8 col3\" >0.9217</td>\n",
       "      <td id=\"T_5ae9b_row8_col4\" class=\"data row8 col4\" >0.9226</td>\n",
       "      <td id=\"T_5ae9b_row8_col5\" class=\"data row8 col5\" >0.9217</td>\n",
       "      <td id=\"T_5ae9b_row8_col6\" class=\"data row8 col6\" >0.8400</td>\n",
       "      <td id=\"T_5ae9b_row8_col7\" class=\"data row8 col7\" >0.8408</td>\n",
       "      <td id=\"T_5ae9b_row8_col8\" class=\"data row8 col8\" >34.9950</td>\n",
       "    </tr>\n",
       "    <tr>\n",
       "      <th id=\"T_5ae9b_level0_row9\" class=\"row_heading level0 row9\" >xgboost</th>\n",
       "      <td id=\"T_5ae9b_row9_col0\" class=\"data row9 col0\" >Extreme Gradient Boosting</td>\n",
       "      <td id=\"T_5ae9b_row9_col1\" class=\"data row9 col1\" >0.9194</td>\n",
       "      <td id=\"T_5ae9b_row9_col2\" class=\"data row9 col2\" >0.9705</td>\n",
       "      <td id=\"T_5ae9b_row9_col3\" class=\"data row9 col3\" >0.9194</td>\n",
       "      <td id=\"T_5ae9b_row9_col4\" class=\"data row9 col4\" >0.9203</td>\n",
       "      <td id=\"T_5ae9b_row9_col5\" class=\"data row9 col5\" >0.9194</td>\n",
       "      <td id=\"T_5ae9b_row9_col6\" class=\"data row9 col6\" >0.8351</td>\n",
       "      <td id=\"T_5ae9b_row9_col7\" class=\"data row9 col7\" >0.8359</td>\n",
       "      <td id=\"T_5ae9b_row9_col8\" class=\"data row9 col8\" >0.0730</td>\n",
       "    </tr>\n",
       "    <tr>\n",
       "      <th id=\"T_5ae9b_level0_row10\" class=\"row_heading level0 row10\" >nb</th>\n",
       "      <td id=\"T_5ae9b_row10_col0\" class=\"data row10 col0\" >Naive Bayes</td>\n",
       "      <td id=\"T_5ae9b_row10_col1\" class=\"data row10 col1\" >0.9147</td>\n",
       "      <td id=\"T_5ae9b_row10_col2\" class=\"data row10 col2\" >0.9701</td>\n",
       "      <td id=\"T_5ae9b_row10_col3\" class=\"data row10 col3\" >0.9147</td>\n",
       "      <td id=\"T_5ae9b_row10_col4\" class=\"data row10 col4\" >0.9150</td>\n",
       "      <td id=\"T_5ae9b_row10_col5\" class=\"data row10 col5\" >0.9146</td>\n",
       "      <td id=\"T_5ae9b_row10_col6\" class=\"data row10 col6\" >0.8252</td>\n",
       "      <td id=\"T_5ae9b_row10_col7\" class=\"data row10 col7\" >0.8256</td>\n",
       "      <td id=\"T_5ae9b_row10_col8\" class=\"data row10 col8\" >0.0250</td>\n",
       "    </tr>\n",
       "    <tr>\n",
       "      <th id=\"T_5ae9b_level0_row11\" class=\"row_heading level0 row11\" >dt</th>\n",
       "      <td id=\"T_5ae9b_row11_col0\" class=\"data row11 col0\" >Decision Tree Classifier</td>\n",
       "      <td id=\"T_5ae9b_row11_col1\" class=\"data row11 col1\" >0.9002</td>\n",
       "      <td id=\"T_5ae9b_row11_col2\" class=\"data row11 col2\" >0.8977</td>\n",
       "      <td id=\"T_5ae9b_row11_col3\" class=\"data row11 col3\" >0.9002</td>\n",
       "      <td id=\"T_5ae9b_row11_col4\" class=\"data row11 col4\" >0.9010</td>\n",
       "      <td id=\"T_5ae9b_row11_col5\" class=\"data row11 col5\" >0.9001</td>\n",
       "      <td id=\"T_5ae9b_row11_col6\" class=\"data row11 col6\" >0.7957</td>\n",
       "      <td id=\"T_5ae9b_row11_col7\" class=\"data row11 col7\" >0.7965</td>\n",
       "      <td id=\"T_5ae9b_row11_col8\" class=\"data row11 col8\" >0.0300</td>\n",
       "    </tr>\n",
       "    <tr>\n",
       "      <th id=\"T_5ae9b_level0_row12\" class=\"row_heading level0 row12\" >knn</th>\n",
       "      <td id=\"T_5ae9b_row12_col0\" class=\"data row12 col0\" >K Neighbors Classifier</td>\n",
       "      <td id=\"T_5ae9b_row12_col1\" class=\"data row12 col1\" >0.8805</td>\n",
       "      <td id=\"T_5ae9b_row12_col2\" class=\"data row12 col2\" >0.9264</td>\n",
       "      <td id=\"T_5ae9b_row12_col3\" class=\"data row12 col3\" >0.8805</td>\n",
       "      <td id=\"T_5ae9b_row12_col4\" class=\"data row12 col4\" >0.8808</td>\n",
       "      <td id=\"T_5ae9b_row12_col5\" class=\"data row12 col5\" >0.8800</td>\n",
       "      <td id=\"T_5ae9b_row12_col6\" class=\"data row12 col6\" >0.7536</td>\n",
       "      <td id=\"T_5ae9b_row12_col7\" class=\"data row12 col7\" >0.7548</td>\n",
       "      <td id=\"T_5ae9b_row12_col8\" class=\"data row12 col8\" >0.0440</td>\n",
       "    </tr>\n",
       "    <tr>\n",
       "      <th id=\"T_5ae9b_level0_row13\" class=\"row_heading level0 row13\" >svm</th>\n",
       "      <td id=\"T_5ae9b_row13_col0\" class=\"data row13 col0\" >SVM - Linear Kernel</td>\n",
       "      <td id=\"T_5ae9b_row13_col1\" class=\"data row13 col1\" >0.6811</td>\n",
       "      <td id=\"T_5ae9b_row13_col2\" class=\"data row13 col2\" >0.0000</td>\n",
       "      <td id=\"T_5ae9b_row13_col3\" class=\"data row13 col3\" >0.6811</td>\n",
       "      <td id=\"T_5ae9b_row13_col4\" class=\"data row13 col4\" >0.7469</td>\n",
       "      <td id=\"T_5ae9b_row13_col5\" class=\"data row13 col5\" >0.6366</td>\n",
       "      <td id=\"T_5ae9b_row13_col6\" class=\"data row13 col6\" >0.3793</td>\n",
       "      <td id=\"T_5ae9b_row13_col7\" class=\"data row13 col7\" >0.4248</td>\n",
       "      <td id=\"T_5ae9b_row13_col8\" class=\"data row13 col8\" >0.0290</td>\n",
       "    </tr>\n",
       "    <tr>\n",
       "      <th id=\"T_5ae9b_level0_row14\" class=\"row_heading level0 row14\" >dummy</th>\n",
       "      <td id=\"T_5ae9b_row14_col0\" class=\"data row14 col0\" >Dummy Classifier</td>\n",
       "      <td id=\"T_5ae9b_row14_col1\" class=\"data row14 col1\" >0.5762</td>\n",
       "      <td id=\"T_5ae9b_row14_col2\" class=\"data row14 col2\" >0.5000</td>\n",
       "      <td id=\"T_5ae9b_row14_col3\" class=\"data row14 col3\" >0.5762</td>\n",
       "      <td id=\"T_5ae9b_row14_col4\" class=\"data row14 col4\" >0.3320</td>\n",
       "      <td id=\"T_5ae9b_row14_col5\" class=\"data row14 col5\" >0.4213</td>\n",
       "      <td id=\"T_5ae9b_row14_col6\" class=\"data row14 col6\" >0.0000</td>\n",
       "      <td id=\"T_5ae9b_row14_col7\" class=\"data row14 col7\" >0.0000</td>\n",
       "      <td id=\"T_5ae9b_row14_col8\" class=\"data row14 col8\" >0.0230</td>\n",
       "    </tr>\n",
       "  </tbody>\n",
       "</table>\n"
      ],
      "text/plain": [
       "<pandas.io.formats.style.Styler at 0x7f5bbc8e6e90>"
      ]
     },
     "metadata": {},
     "output_type": "display_data"
    },
    {
     "data": {
      "text/html": [],
      "text/plain": [
       "<IPython.core.display.HTML object>"
      ]
     },
     "metadata": {},
     "output_type": "display_data"
    }
   ],
   "source": [
    "best = compare_models()"
   ]
  },
  {
   "cell_type": "code",
   "execution_count": null,
   "metadata": {},
   "outputs": [
    {
     "data": {
      "application/vnd.jupyter.widget-view+json": {
       "model_id": "0ea4ba55b5624fb3ad2c75f6a4e52bf0",
       "version_major": 2,
       "version_minor": 0
      },
      "text/plain": [
       "interactive(children=(ToggleButtons(description='Plot Type:', icons=('',), options=(('Pipeline Plot', 'pipelin…"
      ]
     },
     "metadata": {},
     "output_type": "display_data"
    }
   ],
   "source": [
    "evaluate_model(best)"
   ]
  },
  {
   "cell_type": "code",
   "execution_count": null,
   "metadata": {},
   "outputs": [],
   "source": []
  }
 ],
 "metadata": {
  "kernelspec": {
   "display_name": "Python 3",
   "language": "python",
   "name": "python3"
  },
  "language_info": {
   "codemirror_mode": {
    "name": "ipython",
    "version": 3
   },
   "file_extension": ".py",
   "mimetype": "text/x-python",
   "name": "python",
   "nbconvert_exporter": "python",
   "pygments_lexer": "ipython3",
   "version": "3.11.8"
  }
 },
 "nbformat": 4,
 "nbformat_minor": 2
}
